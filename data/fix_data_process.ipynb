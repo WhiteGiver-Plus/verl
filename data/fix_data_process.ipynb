{
 "cells": [
  {
   "cell_type": "code",
   "execution_count": 6,
   "metadata": {},
   "outputs": [],
   "source": [
    "# 导入必要的库\n",
    "from datasets import load_dataset\n",
    "import pandas as pd\n",
    "from typing import Dict, List\n",
    "import os\n",
    "os.environ[\"HF_ENDPOINT\"]=\"https://hf-mirror.com\"\n",
    "\n",
    "# 加载 HuggingFace 数据集并处理\n",
    "def process_dataset(dataset_name: str, data_source: str, key: str = \"proof\") -> pd.DataFrame:\n",
    "    # 加载数据集\n",
    "    dataset = load_dataset(\"json\",data_files=dataset_name)\n",
    "    \n",
    "    # 假设使用 train 分割，你可以根据需要修改\n",
    "    data = dataset[\"train\"]\n",
    "    # data=dataset[\"validation\"]\n",
    "    \n",
    "    # 初始化结果列表\n",
    "    results = []\n",
    "    \n",
    "    # 遍历数据集\n",
    "    for item in data:\n",
    "        # 获取 proof 字段\n",
    "        formal_statement=item[\"formal_statement\"]\n",
    "        proof = item[\"formal_statement\"] + item[\"proof_code\"]\n",
    "        result=item[\"result\"]\n",
    "        if not result[\"sorries\"] and not result[\"errors\"]:\n",
    "            continue\n",
    "        # 构造 prompt\n",
    "        prompt = [{\n",
    "            \"content\": f\"\"\"Fix this proof in Lean4 code:\n",
    "\n",
    "{proof}\n",
    "\n",
    "The error messsege is:\n",
    "\n",
    "{result}\n",
    "\n",
    "Please fix this Lean4 proof above step by step. After careful reasoning, please provide your fixed Lean4 proof between ```lean and ```.\"\"\",\n",
    "            \"role\": \"user\"\n",
    "        }]\n",
    "        \n",
    "        # 构造 reward_model\n",
    "        reward_model = {\n",
    "            \"ground_truth\": {\n",
    "                \"formal_statement\": formal_statement\n",
    "            }\n",
    "        }\n",
    "        \n",
    "        # 构造 extra_info\n",
    "        extra_info = {k: v for k, v in item.items()}\n",
    "        \n",
    "        # 添加到结果\n",
    "        results.append({\n",
    "            \"data_source\": data_source,\n",
    "            \"prompt\": prompt,\n",
    "            \"ability\": \"math\",\n",
    "            \"reward_model\": reward_model,\n",
    "            \"extra_info\": extra_info\n",
    "        })\n",
    "    \n",
    "    # 转换为 DataFrame\n",
    "    df = pd.DataFrame(results)\n",
    "    return df\n",
    "\n",
    "# 示例用法\n",
    "dataset_name = \"/AI4M/users/qzh/lean_test/Agent/Temp/LeanRL/new_verl/verl/verification_log.jsonl\"  # 替换为实际的 HuggingFace 数据集名称\n",
    "data_source = \"lean_fix_wkbk_test\"    # 由用户指定\n",
    "df = process_dataset(dataset_name, data_source)\n",
    "\n",
    "# 显示前几行\n"
   ]
  },
  {
   "cell_type": "code",
   "execution_count": null,
   "metadata": {},
   "outputs": [
    {
     "data": {
      "text/plain": [
       "29641"
      ]
     },
     "execution_count": 10,
     "metadata": {},
     "output_type": "execute_result"
    }
   ],
   "source": [
    "len(df)"
   ]
  },
  {
   "cell_type": "code",
   "execution_count": 3,
   "metadata": {},
   "outputs": [
    {
     "ename": "NameError",
     "evalue": "name 'df' is not defined",
     "output_type": "error",
     "traceback": [
      "\u001b[0;31m---------------------------------------------------------------------------\u001b[0m",
      "\u001b[0;31mNameError\u001b[0m                                 Traceback (most recent call last)",
      "\u001b[1;32m/AI4M/users/qzh/lean_test/Agent/Temp/LeanRL/new_verl/verl/data/fix_data_process.ipynb Cell 3\u001b[0m line \u001b[0;36m2\n\u001b[1;32m      <a href='vscode-notebook-cell://console.siflow.cn/AI4M/users/qzh/lean_test/Agent/Temp/LeanRL/new_verl/verl/data/fix_data_process.ipynb#W2sdnNjb2RlLXJlbW90ZQ%3D%3D?line=0'>1</a>\u001b[0m pd\u001b[39m.\u001b[39mset_option(\u001b[39m'\u001b[39m\u001b[39mdisplay.max_colwidth\u001b[39m\u001b[39m'\u001b[39m, \u001b[39mNone\u001b[39;00m)\n\u001b[0;32m----> <a href='vscode-notebook-cell://console.siflow.cn/AI4M/users/qzh/lean_test/Agent/Temp/LeanRL/new_verl/verl/data/fix_data_process.ipynb#W2sdnNjb2RlLXJlbW90ZQ%3D%3D?line=1'>2</a>\u001b[0m \u001b[39mprint\u001b[39m(df\u001b[39m.\u001b[39mhead())\n",
      "\u001b[0;31mNameError\u001b[0m: name 'df' is not defined"
     ]
    }
   ],
   "source": [
    "pd.set_option('display.max_colwidth', None)\n",
    "print(df.head())"
   ]
  },
  {
   "cell_type": "code",
   "execution_count": null,
   "metadata": {},
   "outputs": [
    {
     "name": "stdout",
     "output_type": "stream",
     "text": [
      "Test set saved to: /AI4M/users/qzh/lean_test/Agent/Temp/LeanRL/new_verl/verl/data/leanwkbk/test.parquet (16 rows)\n",
      "Train set saved to: /AI4M/users/qzh/lean_test/Agent/Temp/LeanRL/new_verl/verl/data/leanwkbk/train.parquet (29625 rows)\n"
     ]
    }
   ],
   "source": [
    "def split_and_save_dataset(df: pd.DataFrame, output_dir: str, test_size: int = 16):\n",
    "    # 确保输出目录存在\n",
    "    os.makedirs(output_dir, exist_ok=True)\n",
    "    \n",
    "    # 随机打乱数据\n",
    "    df_shuffled = df.sample(frac=1, random_state=42).reset_index(drop=True)\n",
    "    \n",
    "    # 拆分为测试集和训练集\n",
    "    test_df = df_shuffled.iloc[:test_size]\n",
    "    train_df = df_shuffled.iloc[test_size:]\n",
    "    \n",
    "    # 保存为 parquet 文件\n",
    "    test_path = os.path.join(output_dir, \"test.parquet\")\n",
    "    train_path = os.path.join(output_dir, \"train.parquet\")\n",
    "    \n",
    "    test_df.to_parquet(test_path, index=False)\n",
    "    train_df.to_parquet(train_path, index=False)\n",
    "    \n",
    "    print(f\"Test set saved to: {test_path} ({len(test_df)} rows)\")\n",
    "    print(f\"Train set saved to: {train_path} ({len(train_df)} rows)\")\n",
    "\n",
    "# 示例用法\n",
    "\n",
    "output_dir = \"/AI4M/users/qzh/lean_test/Agent/Temp/LeanRL/new_verl/verl/data/minif2f\"  # 替换为指定的输出路径\n",
    "\n",
    "# 处理数据集\n",
    "\n",
    "# 拆分并保存\n",
    "split_and_save_dataset(df, output_dir, test_size=16)"
   ]
  },
  {
   "cell_type": "code",
   "execution_count": null,
   "metadata": {},
   "outputs": [],
   "source": [
    "def save_dataset(df: pd.DataFrame, output_dir: str, test_size: int = 16):\n",
    "    # 确保输出目录存在\n",
    "    os.makedirs(output_dir, exist_ok=True)\n",
    "    \n",
    "    # 随机打乱数据\n",
    "    df_shuffled = df.sample(frac=1, random_state=42).reset_index(drop=True)\n",
    "    \n",
    "    # 拆分为测试集和训练集\n",
    "    test_df = df_shuffled\n",
    "    \n",
    "    # 保存为 parquet 文件\n",
    "    test_path = os.path.join(output_dir, \"test.parquet\")\n",
    "\n",
    "    \n",
    "    test_df.to_parquet(test_path, index=False)\n",
    "\n",
    "    \n",
    "    print(f\"Test set saved to: {test_path} ({len(test_df)} rows)\")\n",
    "\n",
    "\n",
    "# 示例用法\n",
    "\n",
    "output_dir = \"/AI4M/users/qzh/lean_test/Agent/Temp/LeanRL/new_verl/verl/data/minif2f\"  # 替换为指定的输出路径\n",
    "\n",
    "# 处理数据集\n",
    "\n",
    "# 拆分并保存\n",
    "save_dataset(df, output_dir, test_size=16)"
   ]
  }
 ],
 "metadata": {
  "language_info": {
   "name": "python"
  }
 },
 "nbformat": 4,
 "nbformat_minor": 2
}
